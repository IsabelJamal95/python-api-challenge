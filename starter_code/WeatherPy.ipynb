{
 "cells": [
  {
   "cell_type": "markdown",
   "metadata": {},
   "source": [
    "# WeatherPy\n",
    "----\n",
    "\n",
    "#### Note\n",
    "* Instructions have been included for each segment. You do not have to follow them exactly, but they are included to help you think through the steps."
   ]
  },
  {
   "cell_type": "code",
   "execution_count": 81,
   "metadata": {
    "scrolled": true
   },
   "outputs": [],
   "source": [
    "# Dependencies and Setup\n",
    "import matplotlib.pyplot as plt\n",
    "import pandas as pd\n",
    "import numpy as np\n",
    "import requests\n",
    "import time\n",
    "import scipy.stats as st\n",
    "from scipy.stats import linregress\n",
    "\n",
    "# Import API key\n",
    "from api_keys import weather_api_key\n",
    "\n",
    "# Incorporated citipy to determine city based on latitude and longitude\n",
    "from citipy import citipy\n",
    "\n",
    "# Output File (CSV)\n",
    "output_data_file = \"cities.csv\"\n",
    "\n",
    "# Range of latitudes and longitudes\n",
    "lat_range = (-90, 90)\n",
    "lng_range = (-180, 180)"
   ]
  },
  {
   "cell_type": "markdown",
   "metadata": {},
   "source": [
    "## Generate Cities List"
   ]
  },
  {
   "cell_type": "code",
   "execution_count": 82,
   "metadata": {},
   "outputs": [
    {
     "data": {
      "text/plain": [
       "588"
      ]
     },
     "execution_count": 82,
     "metadata": {},
     "output_type": "execute_result"
    }
   ],
   "source": [
    "# List for holding lat_lngs and cities\n",
    "lat_lngs = []\n",
    "cities = []\n",
    "\n",
    "# Create a set of random lat and lng combinations\n",
    "lats = np.random.uniform(low=-90.000, high=90.000, size=1500)\n",
    "lngs = np.random.uniform(low=-180.000, high=180.000, size=1500)\n",
    "lat_lngs = zip(lats, lngs)\n",
    "\n",
    "# Identify nearest city for each lat, lng combination\n",
    "for lat_lng in lat_lngs:\n",
    "    city = citipy.nearest_city(lat_lng[0], lat_lng[1]).city_name\n",
    "    \n",
    "    # If the city is unique, then add it to a our cities list\n",
    "    if city not in cities:\n",
    "        cities.append(city)\n",
    "\n",
    "# Print the city count to confirm sufficient count\n",
    "len(cities)"
   ]
  },
  {
   "cell_type": "code",
   "execution_count": null,
   "metadata": {},
   "outputs": [],
   "source": []
  },
  {
   "cell_type": "markdown",
   "metadata": {},
   "source": [
    "### Perform API Calls\n",
    "* Perform a weather check on each city using a series of successive API calls.\n",
    "* Include a print log of each city as it'sbeing processed (with the city number and city name).\n"
   ]
  },
  {
   "cell_type": "code",
   "execution_count": 83,
   "metadata": {},
   "outputs": [
    {
     "data": {
      "text/plain": [
       "'http://api.openweathermap.org/data/2.5/weather?appid=9e2cd2e815c85d466b590c3f9517a4a1&units=metric&q=silver city'"
      ]
     },
     "execution_count": 83,
     "metadata": {},
     "output_type": "execute_result"
    }
   ],
   "source": [
    " # Save config information.\n",
    "url = \"http://api.openweathermap.org/data/2.5/weather?\"\n",
    "units = \"metric\"\n",
    "city= \"silver city\"\n",
    "\n",
    "# Build partial query URL\n",
    "query_url = f\"{url}appid={weather_api_key}&units={units}&q=\"+ city\n",
    "query_url"
   ]
  },
  {
   "cell_type": "code",
   "execution_count": 84,
   "metadata": {},
   "outputs": [
    {
     "data": {
      "text/plain": [
       "{'coord': {'lon': -108.28, 'lat': 32.77},\n",
       " 'weather': [{'id': 800,\n",
       "   'main': 'Clear',\n",
       "   'description': 'clear sky',\n",
       "   'icon': '01d'}],\n",
       " 'base': 'stations',\n",
       " 'main': {'temp': 12.79,\n",
       "  'feels_like': 4.51,\n",
       "  'temp_min': 11.11,\n",
       "  'temp_max': 14.44,\n",
       "  'pressure': 1011,\n",
       "  'humidity': 30},\n",
       " 'visibility': 16093,\n",
       " 'wind': {'speed': 8.2, 'deg': 270, 'gust': 11.8},\n",
       " 'clouds': {'all': 1},\n",
       " 'dt': 1586651057,\n",
       " 'sys': {'type': 1,\n",
       "  'id': 5940,\n",
       "  'country': 'US',\n",
       "  'sunrise': 1586609245,\n",
       "  'sunset': 1586655607},\n",
       " 'timezone': -21600,\n",
       " 'id': 5491487,\n",
       " 'name': 'Silver City',\n",
       " 'cod': 200}"
      ]
     },
     "execution_count": 84,
     "metadata": {},
     "output_type": "execute_result"
    }
   ],
   "source": [
    "results=requests.get(query_url).json()\n",
    "results"
   ]
  },
  {
   "cell_type": "code",
   "execution_count": 85,
   "metadata": {},
   "outputs": [
    {
     "name": "stdout",
     "output_type": "stream",
     "text": [
      "Processing record 0|upernavik\n",
      "Processing record 1|san quintin\n",
      "Processing record 2|butaritari\n",
      "Processing record 3|tuktoyaktuk\n",
      "Processing record 4|port elizabeth\n",
      "Processing record 5|ushuaia\n",
      "Processing record 6|tilichiki\n",
      "Processing record 7|barrow\n",
      "Processing record 8|hermanus\n",
      "Processing record 9|severo-kurilsk\n",
      "Processing record 10|los llanos de aridane\n",
      "Processing record 11|bethel\n",
      "Processing record 12|taltal\n",
      "Processing record 13|albany\n",
      "Processing record 14|vaini\n",
      "Processing record 15|puerto ayora\n",
      "Processing record 16|magadan\n",
      "Processing record 17|saint-georges\n",
      "Processing record 18|todos santos\n",
      "Processing record 19|rikitea\n",
      "city not found\n",
      "Processing record 21|new norfolk\n",
      "city not found\n",
      "Processing record 23|port alfred\n",
      "Processing record 24|busselton\n",
      "Processing record 25|saint george\n",
      "Processing record 26|provideniya\n",
      "Processing record 27|atuona\n",
      "Processing record 28|faya\n",
      "Processing record 29|thompson\n",
      "Processing record 30|bluff\n",
      "Processing record 31|ancud\n",
      "Processing record 32|mar del plata\n",
      "Processing record 33|solton\n",
      "Processing record 34|tasiilaq\n",
      "city not found\n",
      "Processing record 36|kapaa\n",
      "Processing record 37|hobart\n",
      "Processing record 38|pevek\n",
      "Processing record 39|chervona sloboda\n",
      "Processing record 40|pingzhuang\n",
      "Processing record 41|marshall\n",
      "Processing record 42|najran\n",
      "Processing record 43|jamestown\n",
      "Processing record 44|surt\n",
      "Processing record 45|teya\n",
      "Processing record 46|havelock\n",
      "Processing record 47|punta arenas\n",
      "Processing record 48|verkhnyaya inta\n",
      "Processing record 49|makueni\n",
      "Processing record 50|georgetown\n",
      "Processing record 51|kyabram\n",
      "Processing record 52|lebu\n",
      "Processing record 53|brae\n",
      "Processing record 54|katsuura\n",
      "Processing record 55|bakchar\n",
      "city not found\n",
      "Processing record 57|fortuna\n",
      "Processing record 58|husavik\n",
      "Processing record 59|sinnamary\n",
      "Processing record 60|vila franca do campo\n",
      "Processing record 61|victoria\n",
      "Processing record 62|aklavik\n",
      "Processing record 63|castro\n",
      "Processing record 64|ribeira grande\n",
      "Processing record 65|pozarevac\n",
      "Processing record 66|dinghai\n",
      "Processing record 67|bredasdorp\n",
      "Processing record 68|port lincoln\n",
      "Processing record 69|luderitz\n",
      "Processing record 70|hobyo\n",
      "city not found\n",
      "Processing record 72|roma\n",
      "Processing record 73|rudnya\n",
      "city not found\n",
      "Processing record 75|simplicio mendes\n",
      "Processing record 76|waipawa\n",
      "Processing record 77|srednekolymsk\n",
      "Processing record 78|umm lajj\n",
      "Processing record 79|garut\n",
      "Processing record 80|avarua\n",
      "Processing record 81|watertown\n",
      "Processing record 82|byron bay\n",
      "Processing record 83|lompoc\n",
      "Processing record 84|port-gentil\n",
      "Processing record 85|broken hill\n",
      "Processing record 86|bandarbeyla\n",
      "Processing record 87|bambous virieux\n",
      "Processing record 88|tautira\n",
      "Processing record 89|half moon bay\n",
      "Processing record 90|mehamn\n",
      "Processing record 91|laguna\n",
      "Processing record 92|andapa\n",
      "Processing record 93|kavieng\n",
      "Processing record 94|karasburg\n",
      "Processing record 95|guerrero negro\n",
      "Processing record 96|iqaluit\n",
      "Processing record 97|kodiak\n",
      "Processing record 98|san patricio\n",
      "Processing record 99|great bend\n",
      "Processing record 100|nouadhibou\n",
      "Processing record 101|kahului\n",
      "Processing record 102|hithadhoo\n",
      "Processing record 103|kruisfontein\n",
      "Processing record 104|mount gambier\n",
      "Processing record 105|tiksi\n",
      "Processing record 106|camana\n",
      "Processing record 107|tete\n",
      "Processing record 108|canutama\n",
      "Processing record 109|sergeyevka\n",
      "Processing record 110|bara\n",
      "Processing record 111|chokurdakh\n",
      "Processing record 112|alofi\n",
      "Processing record 113|sitka\n",
      "Processing record 114|chingirlau\n",
      "Processing record 115|longyearbyen\n",
      "Processing record 116|bijie\n",
      "Processing record 117|saint-philippe\n",
      "Processing record 118|ust-tsilma\n",
      "Processing record 119|alamosa\n",
      "Processing record 120|saskylakh\n",
      "Processing record 121|basco\n",
      "Processing record 122|hilo\n",
      "Processing record 123|hailar\n",
      "Processing record 124|north bend\n",
      "Processing record 125|namanga\n",
      "Processing record 126|tigil\n",
      "Processing record 127|airai\n",
      "Processing record 128|svetlyy\n",
      "Processing record 129|kihei\n",
      "Processing record 130|conceicao do araguaia\n",
      "Processing record 131|zeya\n",
      "Processing record 132|aksay\n",
      "Processing record 133|faanui\n",
      "Processing record 134|farafangana\n",
      "Processing record 135|banda aceh\n",
      "Processing record 136|khatanga\n",
      "Processing record 137|touros\n",
      "Processing record 138|vardo\n",
      "Processing record 139|ban nahin\n",
      "city not found\n",
      "Processing record 141|zyryanka\n",
      "Processing record 142|marzuq\n",
      "Processing record 143|genhe\n",
      "Processing record 144|bilma\n",
      "Processing record 145|cape town\n",
      "Processing record 146|prince rupert\n",
      "Processing record 147|saint-pierre\n",
      "city not found\n",
      "Processing record 149|mahebourg\n",
      "Processing record 150|lagoa\n",
      "Processing record 151|baker city\n",
      "Processing record 152|talnakh\n",
      "Processing record 153|puerto el triunfo\n",
      "Processing record 154|kefamenanu\n",
      "Processing record 155|tuatapere\n",
      "Processing record 156|yellowknife\n",
      "Processing record 157|carnarvon\n",
      "Processing record 158|ponta do sol\n",
      "Processing record 159|isangel\n",
      "Processing record 160|gien\n",
      "Processing record 161|mao\n",
      "Processing record 162|datong\n",
      "city not found\n",
      "Processing record 164|eureka\n",
      "Processing record 165|truro\n",
      "Processing record 166|oussouye\n",
      "Processing record 167|okhotsk\n",
      "Processing record 168|tocopilla\n",
      "city not found\n",
      "Processing record 170|mataura\n",
      "Processing record 171|xai-xai\n",
      "Processing record 172|kurumkan\n",
      "Processing record 173|brazzaville\n",
      "Processing record 174|deer lake\n",
      "Processing record 175|brawley\n",
      "city not found\n",
      "Processing record 177|east london\n",
      "Processing record 178|kismayo\n",
      "Processing record 179|cidreira\n",
      "Processing record 180|puerto baquerizo moreno\n",
      "Processing record 181|billund\n",
      "Processing record 182|port blair\n",
      "Processing record 183|gao\n",
      "city not found\n",
      "Processing record 185|ucluelet\n",
      "Processing record 186|sao filipe\n",
      "Processing record 187|chapais\n",
      "Processing record 188|purranque\n",
      "Processing record 189|qaanaaq\n",
      "Processing record 190|saldanha\n",
      "Processing record 191|saint anthony\n",
      "Processing record 192|pangkalanbuun\n",
      "Processing record 193|fairbanks\n",
      "Processing record 194|san andres\n",
      "Processing record 195|ilulissat\n",
      "Processing record 196|khiri mat\n",
      "city not found\n",
      "Processing record 198|aktau\n",
      "Processing record 199|beyneu\n",
      "Processing record 200|kutum\n",
      "Processing record 201|bandar-e anzali\n",
      "Processing record 202|wanning\n",
      "Processing record 203|santa luzia\n",
      "Processing record 204|aykhal\n",
      "Processing record 205|blagoyevo\n",
      "Processing record 206|takoradi\n",
      "Processing record 207|krasnogorsk\n",
      "Processing record 208|dodge city\n",
      "Processing record 209|tabuk\n",
      "Processing record 210|whitehorse\n",
      "Processing record 211|wageningen\n",
      "Processing record 212|clinton\n",
      "Processing record 213|moussoro\n",
      "Processing record 214|avera\n",
      "Processing record 215|nargana\n",
      "Processing record 216|evensk\n",
      "Processing record 217|chuy\n",
      "Processing record 218|cabo san lucas\n",
      "Processing record 219|esperance\n",
      "Processing record 220|kampot\n",
      "Processing record 221|mashhad\n",
      "Processing record 222|barber\n",
      "Processing record 223|shingu\n",
      "Processing record 224|chernyshevskiy\n",
      "city not found\n",
      "Processing record 226|lae\n",
      "Processing record 227|flinders\n",
      "Processing record 228|dilla\n",
      "Processing record 229|chyhyryn\n",
      "Processing record 230|grand gaube\n",
      "Processing record 231|killybegs\n",
      "Processing record 232|college\n",
      "Processing record 233|kemi\n",
      "Processing record 234|edinburg\n",
      "Processing record 235|sao domingos\n",
      "Processing record 236|umba\n",
      "city not found\n",
      "Processing record 238|torbay\n",
      "Processing record 239|qaqortoq\n",
      "Processing record 240|ayan\n",
      "Processing record 241|paamiut\n",
      "Processing record 242|nikolskoye\n",
      "Processing record 243|jalu\n",
      "Processing record 244|bilibino\n",
      "Processing record 245|beringovskiy\n",
      "Processing record 246|sibolga\n",
      "Processing record 247|nemuro\n",
      "Processing record 248|bonavista\n",
      "Processing record 249|tanggu\n",
      "Processing record 250|hosur\n",
      "Processing record 251|kununurra\n",
      "Processing record 252|novovarshavka\n",
      "city not found\n",
      "Processing record 254|marsa matruh\n",
      "Processing record 255|xining\n",
      "Processing record 256|weyburn\n",
      "Processing record 257|juneau\n",
      "Processing record 258|mogadouro\n",
      "Processing record 259|kaitangata\n",
      "Processing record 260|santarem\n",
      "Processing record 261|luang prabang\n",
      "Processing record 262|susangerd\n",
      "Processing record 263|sisian\n",
      "Processing record 264|hovd\n",
      "Processing record 265|kulhudhuffushi\n",
      "Processing record 266|hasaki\n",
      "Processing record 267|hirara\n",
      "Processing record 268|kimbe\n",
      "Processing record 269|mantua\n",
      "Processing record 270|kigali\n",
      "Processing record 271|malakal\n",
      "Processing record 272|yatou\n",
      "Processing record 273|quatre cocos\n",
      "Processing record 274|norman wells\n",
      "Processing record 275|taranagar\n"
     ]
    },
    {
     "name": "stdout",
     "output_type": "stream",
     "text": [
      "Processing record 276|saint albans\n",
      "Processing record 277|kavaratti\n",
      "Processing record 278|tual\n",
      "Processing record 279|scarborough\n",
      "Processing record 280|penal\n",
      "city not found\n",
      "Processing record 282|sabang\n",
      "Processing record 283|vao\n",
      "Processing record 284|zhezkazgan\n",
      "Processing record 285|sambava\n",
      "Processing record 286|bonfim\n",
      "Processing record 287|deputatskiy\n",
      "Processing record 288|vanavara\n",
      "Processing record 289|tanout\n",
      "Processing record 290|cockburn town\n",
      "Processing record 291|arraial do cabo\n",
      "Processing record 292|huilong\n",
      "Processing record 293|marienburg\n",
      "Processing record 294|hilton head island\n",
      "Processing record 295|korla\n",
      "city not found\n",
      "Processing record 297|bathsheba\n",
      "Processing record 298|anchorage\n",
      "Processing record 299|ostrovnoy\n",
      "Processing record 300|adrar\n",
      "Processing record 301|elbistan\n",
      "city not found\n",
      "Processing record 303|torquay\n",
      "Processing record 304|cabedelo\n",
      "Processing record 305|opuwo\n",
      "Processing record 306|longkou\n",
      "Processing record 307|burns lake\n",
      "Processing record 308|ottawa\n",
      "Processing record 309|sturgeon bay\n",
      "Processing record 310|palmer\n",
      "Processing record 311|te anau\n",
      "Processing record 312|bamako\n",
      "Processing record 313|hofn\n",
      "city not found\n",
      "Processing record 315|lasa\n",
      "Processing record 316|lorengau\n",
      "Processing record 317|hambantota\n",
      "Processing record 318|zhanaozen\n",
      "Processing record 319|port hardy\n",
      "Processing record 320|presidente epitacio\n",
      "city not found\n",
      "Processing record 322|grindavik\n",
      "Processing record 323|zarand\n",
      "Processing record 324|doha\n",
      "Processing record 325|komsomolskiy\n",
      "Processing record 326|georgiyevka\n",
      "Processing record 327|halvad\n",
      "Processing record 328|ketchikan\n",
      "Processing record 329|kidodi\n",
      "Processing record 330|mayo\n",
      "Processing record 331|raudeberg\n",
      "Processing record 332|kedrovyy\n",
      "Processing record 333|totness\n",
      "Processing record 334|lakatoro\n",
      "Processing record 335|caravelas\n",
      "Processing record 336|borova\n",
      "Processing record 337|nome\n",
      "city not found\n",
      "Processing record 339|cherskiy\n",
      "city not found\n",
      "Processing record 341|sorland\n",
      "Processing record 342|jining\n",
      "city not found\n",
      "Processing record 344|constitucion\n",
      "Processing record 345|camacha\n",
      "Processing record 346|guelph\n",
      "Processing record 347|linjiang\n",
      "Processing record 348|takhtamygda\n",
      "Processing record 349|poum\n",
      "Processing record 350|shimoda\n",
      "Processing record 351|padang\n",
      "Processing record 352|xingyi\n",
      "Processing record 353|dingzhou\n",
      "Processing record 354|arcata\n",
      "Processing record 355|santiago del estero\n",
      "Processing record 356|gueret\n",
      "Processing record 357|yumen\n",
      "Processing record 358|thio\n",
      "Processing record 359|port augusta\n",
      "Processing record 360|nicoya\n",
      "Processing record 361|san cristobal\n",
      "Processing record 362|jacksonville beach\n",
      "Processing record 363|yeniseysk\n",
      "Processing record 364|dikson\n",
      "Processing record 365|waimana\n",
      "Processing record 366|binzhou\n",
      "Processing record 367|villa constitucion\n",
      "Processing record 368|karratha\n",
      "Processing record 369|itaituba\n",
      "city not found\n",
      "Processing record 371|fukuma\n",
      "Processing record 372|chardara\n",
      "Processing record 373|richterswil\n",
      "Processing record 374|novikovo\n",
      "Processing record 375|changde\n",
      "Processing record 376|amuntai\n",
      "city not found\n",
      "Processing record 378|san jose del potrero\n",
      "Processing record 379|palauig\n",
      "Processing record 380|saint-leu\n",
      "Processing record 381|egersund\n",
      "Processing record 382|plastun\n",
      "Processing record 383|rawson\n",
      "Processing record 384|oga\n",
      "Processing record 385|cordoba\n",
      "Processing record 386|sechura\n",
      "city not found\n",
      "Processing record 388|salalah\n",
      "Processing record 389|koungheul\n",
      "Processing record 390|mpraeso\n",
      "Processing record 391|isla vista\n",
      "Processing record 392|am timan\n",
      "Processing record 393|nanortalik\n",
      "Processing record 394|caohai\n",
      "Processing record 395|gananoque\n",
      "Processing record 396|mihaesti\n",
      "Processing record 397|san jose\n",
      "Processing record 398|henties bay\n",
      "Processing record 399|matagami\n",
      "Processing record 400|kiama\n",
      "Processing record 401|merauke\n",
      "Processing record 402|valkla\n",
      "Processing record 403|aconibe\n",
      "Processing record 404|pokhara\n",
      "Processing record 405|pundaguitan\n",
      "Processing record 406|richards bay\n",
      "Processing record 407|santa isabel do para\n",
      "Processing record 408|amapa\n",
      "Processing record 409|beloha\n",
      "Processing record 410|mount isa\n",
      "Processing record 411|fort nelson\n",
      "Processing record 412|kalol\n",
      "Processing record 413|lensk\n",
      "Processing record 414|lata\n",
      "Processing record 415|sarangani\n",
      "Processing record 416|oranjemund\n",
      "Processing record 417|barcelona\n",
      "Processing record 418|mogadishu\n",
      "city not found\n",
      "Processing record 420|cururupu\n",
      "Processing record 421|ulfborg\n",
      "Processing record 422|pangnirtung\n",
      "Processing record 423|vostok\n",
      "Processing record 424|rosarito\n",
      "Processing record 425|dauriya\n",
      "Processing record 426|pisco\n",
      "Processing record 427|abu zabad\n",
      "Processing record 428|solnechnyy\n",
      "Processing record 429|nobeoka\n",
      "city not found\n",
      "Processing record 431|havre-saint-pierre\n",
      "Processing record 432|chaohu\n",
      "Processing record 433|geraldton\n",
      "Processing record 434|princeton\n",
      "city not found\n",
      "Processing record 436|villazon\n",
      "Processing record 437|mahon\n",
      "Processing record 438|harper\n",
      "Processing record 439|kharp\n",
      "Processing record 440|rawlins\n",
      "Processing record 441|inirida\n",
      "Processing record 442|sivas\n",
      "Processing record 443|biak\n",
      "Processing record 444|colac\n",
      "city not found\n",
      "Processing record 446|belyy yar\n",
      "Processing record 447|lisakovsk\n",
      "Processing record 448|namatanai\n",
      "Processing record 449|haines junction\n",
      "Processing record 450|port hawkesbury\n",
      "Processing record 451|natitingou\n",
      "Processing record 452|talaya\n",
      "Processing record 453|mackay\n",
      "Processing record 454|kamaishi\n",
      "Processing record 455|boca do acre\n",
      "Processing record 456|kokologo\n",
      "Processing record 457|lakes entrance\n",
      "Processing record 458|tefe\n",
      "Processing record 459|sur\n",
      "Processing record 460|chadiza\n",
      "city not found\n",
      "Processing record 462|salym\n",
      "Processing record 463|taylorville\n",
      "Processing record 464|qui nhon\n",
      "Processing record 465|dzerzhinskoye\n",
      "Processing record 466|billings\n",
      "Processing record 467|bluefields\n",
      "Processing record 468|kaduqli\n",
      "Processing record 469|normandin\n",
      "city not found\n",
      "Processing record 471|basqal\n",
      "Processing record 472|mount pleasant\n",
      "Processing record 473|impfondo\n",
      "Processing record 474|nagua\n",
      "city not found\n",
      "Processing record 476|katangli\n",
      "Processing record 477|daru\n",
      "Processing record 478|pudozh\n",
      "Processing record 479|lac du bonnet\n",
      "Processing record 480|coffs harbour\n",
      "Processing record 481|mayor pablo lagerenza\n",
      "Processing record 482|revda\n",
      "Processing record 483|atambua\n",
      "Processing record 484|manaus\n",
      "city not found\n",
      "Processing record 486|maniwaki\n",
      "Processing record 487|tieling\n",
      "Processing record 488|swadlincote\n",
      "Processing record 489|atherton\n",
      "Processing record 490|sunland park\n",
      "Processing record 491|jawhar\n",
      "Processing record 492|liverpool\n",
      "Processing record 493|souillac\n",
      "Processing record 494|marsh harbour\n",
      "Processing record 495|pali\n",
      "Processing record 496|alice springs\n",
      "Processing record 497|colares\n",
      "Processing record 498|moramanga\n",
      "Processing record 499|naryan-mar\n",
      "Processing record 500|gorontalo\n",
      "Processing record 501|nyagan\n",
      "Processing record 502|sayat\n",
      "Processing record 503|bose\n",
      "Processing record 504|hamilton\n",
      "Processing record 505|dangriga\n",
      "Processing record 506|terrace\n",
      "Processing record 507|ouadda\n",
      "Processing record 508|mabaruma\n",
      "Processing record 509|kalmunai\n",
      "Processing record 510|gweta\n",
      "Processing record 511|kamenka\n",
      "Processing record 512|sawakin\n",
      "Processing record 513|jiazi\n",
      "Processing record 514|aksarka\n",
      "Processing record 515|abnub\n",
      "Processing record 516|ngunguru\n",
      "city not found\n",
      "Processing record 518|miri\n",
      "city not found\n",
      "city not found\n",
      "Processing record 521|ust-kuyga\n",
      "Processing record 522|itarema\n",
      "Processing record 523|san policarpo\n",
      "Processing record 524|coquimbo\n",
      "Processing record 525|khagaria\n",
      "Processing record 526|novaya igirma\n",
      "Processing record 527|cayenne\n",
      "city not found\n",
      "Processing record 529|diego de almagro\n",
      "Processing record 530|margate\n",
      "Processing record 531|george\n",
      "Processing record 532|channel-port aux basques\n",
      "Processing record 533|sao joao da barra\n",
      "Processing record 534|krasnyy luch\n",
      "Processing record 535|sao luiz gonzaga\n",
      "Processing record 536|lazaro cardenas\n",
      "Processing record 537|chiredzi\n",
      "Processing record 538|vila velha\n",
      "Processing record 539|uva\n",
      "Processing record 540|manuk mangkaw\n",
      "Processing record 541|kpandu\n",
      "Processing record 542|portland\n",
      "Processing record 543|mattawa\n",
      "city not found\n",
      "Processing record 545|bull savanna\n",
      "Processing record 546|narsaq\n",
      "Processing record 547|kidal\n",
      "Processing record 548|gornopravdinsk\n",
      "Processing record 549|buala\n",
      "Processing record 550|kerman\n"
     ]
    },
    {
     "name": "stdout",
     "output_type": "stream",
     "text": [
      "Processing record 551|butte\n",
      "city not found\n",
      "city not found\n",
      "Processing record 554|conde\n",
      "Processing record 555|udachnyy\n",
      "Processing record 556|asnaes\n",
      "city not found\n",
      "Processing record 558|rocha\n",
      "Processing record 559|pogar\n",
      "Processing record 560|moose factory\n",
      "Processing record 561|bengkulu\n",
      "Processing record 562|chany\n",
      "Processing record 563|shirokiy\n",
      "Processing record 564|telde\n",
      "Processing record 565|stupava\n",
      "city not found\n",
      "Processing record 567|kostomuksha\n",
      "city not found\n",
      "Processing record 569|bereznik\n",
      "Processing record 570|healdsburg\n",
      "Processing record 571|tazovskiy\n",
      "Processing record 572|inhuma\n",
      "city not found\n",
      "Processing record 574|chunhuhub\n",
      "city not found\n",
      "Processing record 576|umm kaddadah\n",
      "city not found\n",
      "Processing record 578|eskisehir\n",
      "Processing record 579|tonekabon\n",
      "Processing record 580|nandgaon\n",
      "Processing record 581|sibu\n",
      "Processing record 582|skagen\n",
      "Processing record 583|bubaque\n",
      "Processing record 584|meadow lake\n",
      "Processing record 585|buarcos\n",
      "Processing record 586|muros\n",
      "Processing record 587|terrace bay\n"
     ]
    }
   ],
   "source": [
    "\n",
    "# set up lists to hold reponse info\n",
    "lat = []\n",
    "long = []\n",
    "max_temp = []\n",
    "humidity = []\n",
    "wind = []\n",
    "clouds = []\n",
    "country = []\n",
    "date = []\n",
    "city_name = []\n",
    "\n",
    "# Loop through the list of cities and perform a request for data on each\n",
    "query_url = f\"{url}appid={weather_api_key}&units={units}&q=\"\n",
    "\n",
    "for i,city in enumerate(cities):\n",
    "    try:\n",
    "        response = requests.get(query_url + city).json()\n",
    "        lat.append(response['coord']['lat'])\n",
    "        long.append(response['coord']['lon'])\n",
    "        max_temp.append(response['main']['temp_max'])\n",
    "        humidity.append(response['main']['humidity'])\n",
    "        wind.append(response['wind']['speed'])\n",
    "        clouds.append(response['clouds']['all'])\n",
    "        country.append(response['sys']['country'])\n",
    "        date.append(response['dt'])\n",
    "        city_name.append(city)\n",
    "\n",
    "        print(\"Processing record \" + str(i) + \"|\" + city)\n",
    "\n",
    "    except:\n",
    "        print(\"city not found\")\n",
    "    \n",
    "    \n",
    "\n",
    "# print(f\"The latitude information received is: {lat}\")\n",
    "# print(f\"The temperature information received is: {max_temp}\") "
   ]
  },
  {
   "cell_type": "code",
   "execution_count": null,
   "metadata": {},
   "outputs": [],
   "source": []
  },
  {
   "cell_type": "markdown",
   "metadata": {},
   "source": [
    "### Convert Raw Data to DataFrame\n",
    "* Export the city data into a .csv.\n",
    "* Display the DataFrame"
   ]
  },
  {
   "cell_type": "code",
   "execution_count": 86,
   "metadata": {
    "scrolled": true
   },
   "outputs": [
    {
     "data": {
      "text/html": [
       "<div>\n",
       "<style scoped>\n",
       "    .dataframe tbody tr th:only-of-type {\n",
       "        vertical-align: middle;\n",
       "    }\n",
       "\n",
       "    .dataframe tbody tr th {\n",
       "        vertical-align: top;\n",
       "    }\n",
       "\n",
       "    .dataframe thead th {\n",
       "        text-align: right;\n",
       "    }\n",
       "</style>\n",
       "<table border=\"1\" class=\"dataframe\">\n",
       "  <thead>\n",
       "    <tr style=\"text-align: right;\">\n",
       "      <th></th>\n",
       "      <th>city</th>\n",
       "      <th>cloudiness</th>\n",
       "      <th>country</th>\n",
       "      <th>date</th>\n",
       "      <th>humidity</th>\n",
       "      <th>latitude</th>\n",
       "      <th>longitude</th>\n",
       "      <th>temperature</th>\n",
       "      <th>wind</th>\n",
       "    </tr>\n",
       "  </thead>\n",
       "  <tbody>\n",
       "    <tr>\n",
       "      <th>0</th>\n",
       "      <td>upernavik</td>\n",
       "      <td>100</td>\n",
       "      <td>GL</td>\n",
       "      <td>1586650763</td>\n",
       "      <td>88</td>\n",
       "      <td>72.79</td>\n",
       "      <td>-56.15</td>\n",
       "      <td>-7.03</td>\n",
       "      <td>0.78</td>\n",
       "    </tr>\n",
       "    <tr>\n",
       "      <th>1</th>\n",
       "      <td>san quintin</td>\n",
       "      <td>17</td>\n",
       "      <td>MX</td>\n",
       "      <td>1586650758</td>\n",
       "      <td>73</td>\n",
       "      <td>30.48</td>\n",
       "      <td>-115.95</td>\n",
       "      <td>16.44</td>\n",
       "      <td>7.83</td>\n",
       "    </tr>\n",
       "    <tr>\n",
       "      <th>2</th>\n",
       "      <td>butaritari</td>\n",
       "      <td>88</td>\n",
       "      <td>KI</td>\n",
       "      <td>1586650641</td>\n",
       "      <td>74</td>\n",
       "      <td>3.07</td>\n",
       "      <td>172.79</td>\n",
       "      <td>28.91</td>\n",
       "      <td>4.63</td>\n",
       "    </tr>\n",
       "    <tr>\n",
       "      <th>3</th>\n",
       "      <td>tuktoyaktuk</td>\n",
       "      <td>20</td>\n",
       "      <td>CA</td>\n",
       "      <td>1586650683</td>\n",
       "      <td>84</td>\n",
       "      <td>69.45</td>\n",
       "      <td>-133.04</td>\n",
       "      <td>-14.00</td>\n",
       "      <td>5.10</td>\n",
       "    </tr>\n",
       "    <tr>\n",
       "      <th>4</th>\n",
       "      <td>port elizabeth</td>\n",
       "      <td>92</td>\n",
       "      <td>ZA</td>\n",
       "      <td>1586650824</td>\n",
       "      <td>49</td>\n",
       "      <td>-33.92</td>\n",
       "      <td>25.57</td>\n",
       "      <td>20.00</td>\n",
       "      <td>3.10</td>\n",
       "    </tr>\n",
       "    <tr>\n",
       "      <th>...</th>\n",
       "      <td>...</td>\n",
       "      <td>...</td>\n",
       "      <td>...</td>\n",
       "      <td>...</td>\n",
       "      <td>...</td>\n",
       "      <td>...</td>\n",
       "      <td>...</td>\n",
       "      <td>...</td>\n",
       "      <td>...</td>\n",
       "    </tr>\n",
       "    <tr>\n",
       "      <th>535</th>\n",
       "      <td>bubaque</td>\n",
       "      <td>8</td>\n",
       "      <td>GW</td>\n",
       "      <td>1586651117</td>\n",
       "      <td>79</td>\n",
       "      <td>11.28</td>\n",
       "      <td>-15.83</td>\n",
       "      <td>25.82</td>\n",
       "      <td>7.18</td>\n",
       "    </tr>\n",
       "    <tr>\n",
       "      <th>536</th>\n",
       "      <td>meadow lake</td>\n",
       "      <td>1</td>\n",
       "      <td>US</td>\n",
       "      <td>1586651117</td>\n",
       "      <td>10</td>\n",
       "      <td>34.80</td>\n",
       "      <td>-106.54</td>\n",
       "      <td>20.56</td>\n",
       "      <td>12.30</td>\n",
       "    </tr>\n",
       "    <tr>\n",
       "      <th>537</th>\n",
       "      <td>buarcos</td>\n",
       "      <td>75</td>\n",
       "      <td>PT</td>\n",
       "      <td>1586651117</td>\n",
       "      <td>93</td>\n",
       "      <td>40.17</td>\n",
       "      <td>-8.88</td>\n",
       "      <td>13.89</td>\n",
       "      <td>1.50</td>\n",
       "    </tr>\n",
       "    <tr>\n",
       "      <th>538</th>\n",
       "      <td>muros</td>\n",
       "      <td>90</td>\n",
       "      <td>ES</td>\n",
       "      <td>1586651117</td>\n",
       "      <td>93</td>\n",
       "      <td>42.78</td>\n",
       "      <td>-9.06</td>\n",
       "      <td>12.78</td>\n",
       "      <td>2.60</td>\n",
       "    </tr>\n",
       "    <tr>\n",
       "      <th>539</th>\n",
       "      <td>terrace bay</td>\n",
       "      <td>56</td>\n",
       "      <td>CA</td>\n",
       "      <td>1586651117</td>\n",
       "      <td>72</td>\n",
       "      <td>48.78</td>\n",
       "      <td>-87.10</td>\n",
       "      <td>2.60</td>\n",
       "      <td>5.52</td>\n",
       "    </tr>\n",
       "  </tbody>\n",
       "</table>\n",
       "<p>540 rows × 9 columns</p>\n",
       "</div>"
      ],
      "text/plain": [
       "               city  cloudiness country        date  humidity  latitude  \\\n",
       "0         upernavik         100      GL  1586650763        88     72.79   \n",
       "1       san quintin          17      MX  1586650758        73     30.48   \n",
       "2        butaritari          88      KI  1586650641        74      3.07   \n",
       "3       tuktoyaktuk          20      CA  1586650683        84     69.45   \n",
       "4    port elizabeth          92      ZA  1586650824        49    -33.92   \n",
       "..              ...         ...     ...         ...       ...       ...   \n",
       "535         bubaque           8      GW  1586651117        79     11.28   \n",
       "536     meadow lake           1      US  1586651117        10     34.80   \n",
       "537         buarcos          75      PT  1586651117        93     40.17   \n",
       "538           muros          90      ES  1586651117        93     42.78   \n",
       "539     terrace bay          56      CA  1586651117        72     48.78   \n",
       "\n",
       "     longitude  temperature   wind  \n",
       "0       -56.15        -7.03   0.78  \n",
       "1      -115.95        16.44   7.83  \n",
       "2       172.79        28.91   4.63  \n",
       "3      -133.04       -14.00   5.10  \n",
       "4        25.57        20.00   3.10  \n",
       "..         ...          ...    ...  \n",
       "535     -15.83        25.82   7.18  \n",
       "536    -106.54        20.56  12.30  \n",
       "537      -8.88        13.89   1.50  \n",
       "538      -9.06        12.78   2.60  \n",
       "539     -87.10         2.60   5.52  \n",
       "\n",
       "[540 rows x 9 columns]"
      ]
     },
     "execution_count": 86,
     "metadata": {},
     "output_type": "execute_result"
    }
   ],
   "source": [
    "weather_df=pd.DataFrame({\n",
    "    \"city\": city_name,\n",
    "    \"cloudiness\":clouds,\n",
    "    \"country\": country, \n",
    "    \"date\":date,\n",
    "    \"humidity\":humidity, \n",
    "    \"latitude\":lat, \n",
    "    \"longitude\":long, \n",
    "    \"temperature\":max_temp, \n",
    "    \"wind\": wind\n",
    "})\n",
    "\n",
    "weather_df\n",
    "\n"
   ]
  },
  {
   "cell_type": "code",
   "execution_count": 87,
   "metadata": {},
   "outputs": [],
   "source": [
    "weather_df.to_csv(output_data_file)"
   ]
  },
  {
   "cell_type": "code",
   "execution_count": null,
   "metadata": {},
   "outputs": [],
   "source": []
  },
  {
   "cell_type": "markdown",
   "metadata": {},
   "source": [
    "### Plotting the Data\n",
    "* Use proper labeling of the plots using plot titles (including date of analysis) and axes labels.\n",
    "* Save the plotted figures as .pngs."
   ]
  },
  {
   "cell_type": "markdown",
   "metadata": {},
   "source": [
    "#### Latitude vs. Temperature Plot"
   ]
  },
  {
   "cell_type": "code",
   "execution_count": 88,
   "metadata": {
    "scrolled": true
   },
   "outputs": [
    {
     "data": {
      "text/plain": [
       "Text(0.5, 1.0, 'City Temperature vs. Latitude')"
      ]
     },
     "execution_count": 88,
     "metadata": {},
     "output_type": "execute_result"
    },
    {
     "data": {
      "image/png": "[encoded data removed]",
      "text/plain": [
       "<Figure size 432x288 with 1 Axes>"
      ]
     },
     "metadata": {
      "needs_background": "light"
     },
     "output_type": "display_data"
    }
   ],
   "source": [
    "plt.scatter(weather_df[\"latitude\"], weather_df[\"temperature\"])\n",
    "\n",
    "plt.xlabel(\"Latitude\")\n",
    "plt.ylabel(\"temperature\")\n",
    "plt.title(\"City Temperature vs. Latitude\")\n",
    "\n",
    "#The above code creates a scatter plot comparing the above cities latitudes (x axis values) with their temperatures (y axis values).\n",
    "#The max temperature seems to be at it's highest for cities near the latitude 0."
   ]
  },
  {
   "cell_type": "markdown",
   "metadata": {},
   "source": [
    "#### Latitude vs. Humidity Plot"
   ]
  },
  {
   "cell_type": "code",
   "execution_count": 89,
   "metadata": {},
   "outputs": [
    {
     "data": {
      "text/plain": [
       "Text(0.5, 1.0, 'City Humidity vs. Latitude')"
      ]
     },
     "execution_count": 89,
     "metadata": {},
     "output_type": "execute_result"
    },
    {
     "data": {
      "image/png": "[encoded data removed]",
      "text/plain": [
       "<Figure size 432x288 with 1 Axes>"
      ]
     },
     "metadata": {
      "needs_background": "light"
     },
     "output_type": "display_data"
    }
   ],
   "source": [
    "plt.scatter(weather_df[\"latitude\"], weather_df[\"humidity\"])\n",
    "\n",
    "plt.xlabel(\"Latitude\")\n",
    "plt.ylabel(\"Humidity\")\n",
    "plt.title(\"City Humidity vs. Latitude\")\n",
    "\n",
    "#The above code creates a scatter plot comparing the above cities latitudes (x axis values) with their humidity (y axis values).\n",
    "#The amount of humidity seems to be above 40 for most cities regardless of their latitudes. "
   ]
  },
  {
   "cell_type": "markdown",
   "metadata": {},
   "source": [
    "#### Latitude vs. Cloudiness Plot"
   ]
  },
  {
   "cell_type": "code",
   "execution_count": 90,
   "metadata": {},
   "outputs": [
    {
     "data": {
      "text/plain": [
       "Text(0.5, 1.0, 'City Cloudiness vs. Latitude')"
      ]
     },
     "execution_count": 90,
     "metadata": {},
     "output_type": "execute_result"
    },
    {
     "data": {
      "image/png": "[encoded data removed]",
      "text/plain": [
       "<Figure size 432x288 with 1 Axes>"
      ]
     },
     "metadata": {
      "needs_background": "light"
     },
     "output_type": "display_data"
    }
   ],
   "source": [
    "plt.scatter(weather_df[\"latitude\"], weather_df[\"cloudiness\"])\n",
    "\n",
    "plt.xlabel(\"Latitude\")\n",
    "plt.ylabel(\"Cloudiness\")\n",
    "plt.title(\"City Cloudiness vs. Latitude\")\n",
    "\n",
    "#The above code creates a scatter plot comparing the above cities latitudes (x axis values) with their cloudiness (y axis values).\n",
    "#There does not appear to be a correlation between latitude and cloudiness for the selected cities meaning that regardless of latitude it could or could not be cloudy in any given city. "
   ]
  },
  {
   "cell_type": "markdown",
   "metadata": {},
   "source": [
    "#### Latitude vs. Wind Speed Plot"
   ]
  },
  {
   "cell_type": "code",
   "execution_count": 91,
   "metadata": {},
   "outputs": [
    {
     "data": {
      "text/plain": [
       "Text(0.5, 1.0, 'City Wind Speed vs. Latitude')"
      ]
     },
     "execution_count": 91,
     "metadata": {},
     "output_type": "execute_result"
    },
    {
     "data": {
      "image/png": "[encoded data removed]",
      "text/plain": [
       "<Figure size 432x288 with 1 Axes>"
      ]
     },
     "metadata": {
      "needs_background": "light"
     },
     "output_type": "display_data"
    }
   ],
   "source": [
    "plt.scatter(weather_df[\"latitude\"], weather_df[\"wind\"])\n",
    "\n",
    "plt.xlabel(\"Latitude\")\n",
    "plt.ylabel(\"Wind Speed\")\n",
    "plt.title(\"City Wind Speed vs. Latitude\")\n",
    "\n",
    "#The above code creates a scatter plot comparing the above cities latitudes (x axis values) with their wind speed (y axis values).\n",
    "#It appears that wind speed is lower for most of the selected cities regardless of latitude."
   ]
  },
  {
   "cell_type": "markdown",
   "metadata": {},
   "source": [
    "## Linear Regression"
   ]
  },
  {
   "cell_type": "code",
   "execution_count": 92,
   "metadata": {},
   "outputs": [],
   "source": [
    "# OPTIONAL: Create a function to create Linear Regression plots\n"
   ]
  },
  {
   "cell_type": "code",
   "execution_count": 93,
   "metadata": {},
   "outputs": [
    {
     "data": {
      "text/plain": [
       "4     -33.92\n",
       "5     -54.80\n",
       "8     -34.42\n",
       "12    -25.40\n",
       "14    -21.20\n",
       "       ...  \n",
       "509    -8.14\n",
       "512    -7.26\n",
       "515   -34.48\n",
       "518    -3.80\n",
       "527    -6.67\n",
       "Name: latitude, Length: 150, dtype: float64"
      ]
     },
     "execution_count": 93,
     "metadata": {},
     "output_type": "execute_result"
    }
   ],
   "source": [
    "# Create Northern and Southern Hemisphere DataFrames\n",
    "Northern_hemisphere= weather_df.loc[(weather_df[\"latitude\"] >= 0)]\n",
    "Northern_hemisphere\n",
    "\n",
    "nx_values=Northern_hemisphere[\"latitude\"]\n",
    "nx_values\n",
    "\n",
    "Southern_hemisphere= weather_df.loc[(weather_df[\"latitude\"] <= 0)]\n",
    "Southern_hemisphere\n",
    "\n",
    "sx_values=Southern_hemisphere[\"latitude\"]\n",
    "sx_values"
   ]
  },
  {
   "cell_type": "markdown",
   "metadata": {},
   "source": [
    "####  Northern Hemisphere - Max Temp vs. Latitude Linear Regression"
   ]
  },
  {
   "cell_type": "code",
   "execution_count": 94,
   "metadata": {},
   "outputs": [
    {
     "name": "stdout",
     "output_type": "stream",
     "text": [
      "The r-squared is: -0.9028893472920598\n"
     ]
    },
    {
     "data": {
      "text/plain": [
       "Text(0, 0.5, 'Max Temperature')"
      ]
     },
     "execution_count": 94,
     "metadata": {},
     "output_type": "execute_result"
    },
    {
     "data": {
      "image/png": "[encoded data removed]",
      "text/plain": [
       "<Figure size 432x288 with 1 Axes>"
      ]
     },
     "metadata": {
      "needs_background": "light"
     },
     "output_type": "display_data"
    }
   ],
   "source": [
    "plt.scatter(nx_values, Northern_hemisphere[\"temperature\"])\n",
    "\n",
    "correlation = st.pearsonr(nx_values, Northern_hemisphere[\"temperature\"])\n",
    "print(f\"The r-squared is: {(correlation[0])}\")\n",
    "\n",
    "\n",
    "(slope, intercept, rvalue, pvalue, stderr) = linregress(nx_values, Northern_hemisphere[\"temperature\"])\n",
    "regress_values = nx_values * slope + intercept\n",
    "line_eq = \"y = \" + str(round(slope,2)) + \"x + \" + str(round(intercept,2))\n",
    "\n",
    "plt.plot(nx_values,regress_values,\"r-\")\n",
    "\n",
    "plt.xlabel(\"Latitude\")\n",
    "plt.ylabel(\"Max Temperature\")"
   ]
  },
  {
   "cell_type": "markdown",
   "metadata": {},
   "source": [
    "####  Southern Hemisphere - Max Temp vs. Latitude Linear Regression"
   ]
  },
  {
   "cell_type": "code",
   "execution_count": 95,
   "metadata": {},
   "outputs": [
    {
     "name": "stdout",
     "output_type": "stream",
     "text": [
      "The r-squared is: 0.6984994221668911\n"
     ]
    },
    {
     "data": {
      "text/plain": [
       "Text(0, 0.5, 'Max Temperature')"
      ]
     },
     "execution_count": 95,
     "metadata": {},
     "output_type": "execute_result"
    },
    {
     "data": {
      "image/png": "[encoded data removed]",
      "text/plain": [
       "<Figure size 432x288 with 1 Axes>"
      ]
     },
     "metadata": {
      "needs_background": "light"
     },
     "output_type": "display_data"
    }
   ],
   "source": [
    "plt.scatter(sx_values, Southern_hemisphere[\"temperature\"])\n",
    "\n",
    "correlation = st.pearsonr(sx_values, Southern_hemisphere[\"temperature\"])\n",
    "print(f\"The r-squared is: {(correlation[0])}\")\n",
    "\n",
    "\n",
    "(slope, intercept, rvalue, pvalue, stderr) = linregress(sx_values, Southern_hemisphere[\"temperature\"])\n",
    "regress_values = sx_values * slope + intercept\n",
    "line_eq = \"y = \" + str(round(slope,2)) + \"x + \" + str(round(intercept,2))\n",
    "\n",
    "plt.plot(sx_values,regress_values,\"r-\")\n",
    "\n",
    "plt.xlabel(\"Latitude\")\n",
    "plt.ylabel(\"Max Temperature\")"
   ]
  },
  {
   "cell_type": "code",
   "execution_count": null,
   "metadata": {},
   "outputs": [],
   "source": [
    "#ANALYSIS OF SOUTHERN VS NORTHERN HEMISPHERES: MAX TEMP VS LATITUDE\n",
    "#The linear regression for the Northern Hemisphere is a negative correlation while the Southern Hemisphere has a positive correlation.\n",
    "#For both plots it appears that the closer the cities' latitudes get to 0 the higher their max temperatures are.\n",
    "\n",
    "\n"
   ]
  },
  {
   "cell_type": "markdown",
   "metadata": {},
   "source": [
    "####  Northern Hemisphere - Humidity (%) vs. Latitude Linear Regression"
   ]
  },
  {
   "cell_type": "code",
   "execution_count": 96,
   "metadata": {},
   "outputs": [
    {
     "name": "stdout",
     "output_type": "stream",
     "text": [
      "The r-squared is: 0.22119889757212266\n"
     ]
    },
    {
     "data": {
      "text/plain": [
       "Text(0, 0.5, 'Humidity')"
      ]
     },
     "execution_count": 96,
     "metadata": {},
     "output_type": "execute_result"
    },
    {
     "data": {
      "image/png": "[encoded data removed]",
      "text/plain": [
       "<Figure size 432x288 with 1 Axes>"
      ]
     },
     "metadata": {
      "needs_background": "light"
     },
     "output_type": "display_data"
    }
   ],
   "source": [
    "plt.scatter(nx_values, Northern_hemisphere[\"humidity\"])\n",
    "\n",
    "correlation = st.pearsonr(nx_values, Northern_hemisphere[\"humidity\"])\n",
    "print(f\"The r-squared is: {(correlation[0])}\")\n",
    "\n",
    "\n",
    "(slope, intercept, rvalue, pvalue, stderr) = linregress(nx_values, Northern_hemisphere[\"humidity\"])\n",
    "regress_values = nx_values * slope + intercept\n",
    "line_eq = \"y = \" + str(round(slope,2)) + \"x + \" + str(round(intercept,2))\n",
    "\n",
    "plt.plot(nx_values,regress_values,\"r-\")\n",
    "\n",
    "plt.xlabel(\"Latitude\")\n",
    "plt.ylabel(\"Humidity\")"
   ]
  },
  {
   "cell_type": "markdown",
   "metadata": {},
   "source": [
    "####  Southern Hemisphere - Humidity (%) vs. Latitude Linear Regression"
   ]
  },
  {
   "cell_type": "code",
   "execution_count": 97,
   "metadata": {},
   "outputs": [
    {
     "name": "stdout",
     "output_type": "stream",
     "text": [
      "The r-squared is: 0.26707906404691945\n"
     ]
    },
    {
     "data": {
      "text/plain": [
       "Text(0, 0.5, 'Humidity')"
      ]
     },
     "execution_count": 97,
     "metadata": {},
     "output_type": "execute_result"
    },
    {
     "data": {
      "image/png": "[encoded data removed]",
      "text/plain": [
       "<Figure size 432x288 with 1 Axes>"
      ]
     },
     "metadata": {
      "needs_background": "light"
     },
     "output_type": "display_data"
    }
   ],
   "source": [
    "plt.scatter(sx_values, Southern_hemisphere[\"humidity\"])\n",
    "\n",
    "correlation = st.pearsonr(sx_values, Southern_hemisphere[\"humidity\"])\n",
    "print(f\"The r-squared is: {(correlation[0])}\")\n",
    "\n",
    "\n",
    "(slope, intercept, rvalue, pvalue, stderr) = linregress(sx_values, Southern_hemisphere[\"humidity\"])\n",
    "regress_values = sx_values * slope + intercept\n",
    "line_eq = \"y = \" + str(round(slope,2)) + \"x + \" + str(round(intercept,2))\n",
    "\n",
    "plt.plot(sx_values,regress_values,\"r-\")\n",
    "\n",
    "plt.xlabel(\"Latitude\")\n",
    "plt.ylabel(\"Humidity\")"
   ]
  },
  {
   "cell_type": "code",
   "execution_count": null,
   "metadata": {},
   "outputs": [],
   "source": [
    "#ANALYSIS OF SOUTHERN VS NORTHERN HEMISPHERES: HUMIDITY VS LATITUDE\n",
    "#The linear regressions for both the northern and southern hemispheres are similar in that they are both positive correlations.\n",
    "#The humidity levels for cities seem to increase going from the lowest latitude (in the southern hemisphere) to the highest (in the northern hemisphere)"
   ]
  },
  {
   "cell_type": "markdown",
   "metadata": {},
   "source": [
    "####  Northern Hemisphere - Cloudiness (%) vs. Latitude Linear Regression"
   ]
  },
  {
   "cell_type": "code",
   "execution_count": 98,
   "metadata": {},
   "outputs": [
    {
     "name": "stdout",
     "output_type": "stream",
     "text": [
      "The r-squared is: 0.046131092251317785\n"
     ]
    },
    {
     "data": {
      "text/plain": [
       "Text(0, 0.5, 'Cloudiness')"
      ]
     },
     "execution_count": 98,
     "metadata": {},
     "output_type": "execute_result"
    },
    {
     "data": {
      "image/png": "[encoded data removed]",
      "text/plain": [
       "<Figure size 432x288 with 1 Axes>"
      ]
     },
     "metadata": {
      "needs_background": "light"
     },
     "output_type": "display_data"
    }
   ],
   "source": [
    "plt.scatter(nx_values, Northern_hemisphere[\"cloudiness\"])\n",
    "\n",
    "correlation = st.pearsonr(nx_values, Northern_hemisphere[\"cloudiness\"])\n",
    "print(f\"The r-squared is: {(correlation[0])}\")\n",
    "\n",
    "\n",
    "(slope, intercept, rvalue, pvalue, stderr) = linregress(nx_values, Northern_hemisphere[\"cloudiness\"])\n",
    "regress_values = nx_values * slope + intercept\n",
    "line_eq = \"y = \" + str(round(slope,2)) + \"x + \" + str(round(intercept,2))\n",
    "\n",
    "plt.plot(nx_values,regress_values,\"r-\")\n",
    "\n",
    "plt.xlabel(\"Latitude\")\n",
    "plt.ylabel(\"Cloudiness\")"
   ]
  },
  {
   "cell_type": "markdown",
   "metadata": {},
   "source": [
    "####  Southern Hemisphere - Cloudiness (%) vs. Latitude Linear Regression"
   ]
  },
  {
   "cell_type": "code",
   "execution_count": 99,
   "metadata": {},
   "outputs": [
    {
     "name": "stdout",
     "output_type": "stream",
     "text": [
      "The r-squared is: 0.25643848532972013\n"
     ]
    },
    {
     "data": {
      "text/plain": [
       "Text(0, 0.5, 'Cloudiness')"
      ]
     },
     "execution_count": 99,
     "metadata": {},
     "output_type": "execute_result"
    },
    {
     "data": {
      "image/png": "[encoded data removed]",
      "text/plain": [
       "<Figure size 432x288 with 1 Axes>"
      ]
     },
     "metadata": {
      "needs_background": "light"
     },
     "output_type": "display_data"
    }
   ],
   "source": [
    "plt.scatter(sx_values, Southern_hemisphere[\"cloudiness\"])\n",
    "\n",
    "correlation = st.pearsonr(sx_values, Southern_hemisphere[\"cloudiness\"])\n",
    "print(f\"The r-squared is: {(correlation[0])}\")\n",
    "\n",
    "\n",
    "(slope, intercept, rvalue, pvalue, stderr) = linregress(sx_values, Southern_hemisphere[\"cloudiness\"])\n",
    "regress_values = sx_values * slope + intercept\n",
    "line_eq = \"y = \" + str(round(slope,2)) + \"x + \" + str(round(intercept,2))\n",
    "\n",
    "plt.plot(sx_values,regress_values,\"r-\")\n",
    "\n",
    "plt.xlabel(\"Latitude\")\n",
    "plt.ylabel(\"Cloudiness\")"
   ]
  },
  {
   "cell_type": "code",
   "execution_count": null,
   "metadata": {},
   "outputs": [],
   "source": [
    "#ANALYSIS OF SOUTHERN VS NORTHERN HEMISPHERES: CLOUDINESS VS LATITUDE\n",
    "#The linear regression for the Norther Hemisphere has nearly a horizontal line while the southern hemisphere has a more positive correlation.\n",
    "#Overall There is less of a correlation between cloudiness and latitude in both the northern and southern hemispheres."
   ]
  },
  {
   "cell_type": "markdown",
   "metadata": {},
   "source": [
    "####  Northern Hemisphere - Wind Speed (mph) vs. Latitude Linear Regression"
   ]
  },
  {
   "cell_type": "code",
   "execution_count": 100,
   "metadata": {},
   "outputs": [
    {
     "name": "stdout",
     "output_type": "stream",
     "text": [
      "The r-squared is: 0.07763715617554309\n"
     ]
    },
    {
     "data": {
      "text/plain": [
       "Text(0, 0.5, 'Wind Speed')"
      ]
     },
     "execution_count": 100,
     "metadata": {},
     "output_type": "execute_result"
    },
    {
     "data": {
      "image/png": "[encoded data removed]",
      "text/plain": [
       "<Figure size 432x288 with 1 Axes>"
      ]
     },
     "metadata": {
      "needs_background": "light"
     },
     "output_type": "display_data"
    }
   ],
   "source": [
    "plt.scatter(nx_values, Northern_hemisphere[\"wind\"])\n",
    "\n",
    "correlation = st.pearsonr(nx_values, Northern_hemisphere[\"wind\"])\n",
    "print(f\"The r-squared is: {(correlation[0])}\")\n",
    "\n",
    "\n",
    "(slope, intercept, rvalue, pvalue, stderr) = linregress(nx_values, Northern_hemisphere[\"wind\"])\n",
    "regress_values = nx_values * slope + intercept\n",
    "line_eq = \"y = \" + str(round(slope,2)) + \"x + \" + str(round(intercept,2))\n",
    "\n",
    "plt.plot(nx_values,regress_values,\"r-\")\n",
    "\n",
    "plt.xlabel(\"Latitude\")\n",
    "plt.ylabel(\"Wind Speed\")"
   ]
  },
  {
   "cell_type": "markdown",
   "metadata": {},
   "source": [
    "####  Southern Hemisphere - Wind Speed (mph) vs. Latitude Linear Regression"
   ]
  },
  {
   "cell_type": "code",
   "execution_count": 101,
   "metadata": {},
   "outputs": [
    {
     "name": "stdout",
     "output_type": "stream",
     "text": [
      "The r-squared is: -0.37792952604873453\n"
     ]
    },
    {
     "data": {
      "text/plain": [
       "Text(0, 0.5, 'Wind Speed')"
      ]
     },
     "execution_count": 101,
     "metadata": {},
     "output_type": "execute_result"
    },
    {
     "data": {
      "image/png": "[encoded data removed]",
      "text/plain": [
       "<Figure size 432x288 with 1 Axes>"
      ]
     },
     "metadata": {
      "needs_background": "light"
     },
     "output_type": "display_data"
    }
   ],
   "source": [
    "plt.scatter(sx_values, Southern_hemisphere[\"wind\"])\n",
    "\n",
    "correlation = st.pearsonr(sx_values, Southern_hemisphere[\"wind\"])\n",
    "print(f\"The r-squared is: {(correlation[0])}\")\n",
    "\n",
    "\n",
    "(slope, intercept, rvalue, pvalue, stderr) = linregress(sx_values, Southern_hemisphere[\"wind\"])\n",
    "regress_values = sx_values * slope + intercept\n",
    "line_eq = \"y = \" + str(round(slope,2)) + \"x + \" + str(round(intercept,2))\n",
    "\n",
    "plt.plot(sx_values,regress_values,\"r-\")\n",
    "\n",
    "plt.xlabel(\"Latitude\")\n",
    "plt.ylabel(\"Wind Speed\")"
   ]
  },
  {
   "cell_type": "code",
   "execution_count": null,
   "metadata": {},
   "outputs": [],
   "source": [
    "#ANALYSIS OF SOUTHERN VS NORTHERN HEMISPHERES: WIND SPEED VS LATITUDE\n",
    "#The linear regression for the Northern Hemisphere appears to be an almost horizontal line while the southern hemisphere is showing more of a negative correlation.\n",
    "#Wind Speed does not seem to be affected much by latitude in the northern hemisphere but the closer you get to 0 in the southern hemisphere the lower the wind speed."
   ]
  }
 ],
 "metadata": {
  "anaconda-cloud": {},
  "kernel_info": {
   "name": "python3"
  },
  "kernelspec": {
   "display_name": "Python 3",
   "language": "python",
   "name": "python3"
  },
  "language_info": {
   "codemirror_mode": {
    "name": "ipython",
    "version": 3
   },
   "file_extension": ".py",
   "mimetype": "text/x-python",
   "name": "python",
   "nbconvert_exporter": "python",
   "pygments_lexer": "ipython3",
   "version": "3.6.10"
  },
  "latex_envs": {
   "LaTeX_envs_menu_present": true,
   "autoclose": false,
   "autocomplete": true,
   "bibliofile": "biblio.bib",
   "cite_by": "apalike",
   "current_citInitial": 1,
   "eqLabelWithNumbers": true,
   "eqNumInitial": 1,
   "hotkeys": {
    "equation": "Ctrl-E",
    "itemize": "Ctrl-I"
   },
   "labels_anchors": false,
   "latex_user_defs": false,
   "report_style_numbering": false,
   "user_envs_cfg": false
  },
  "nteract": {
   "version": "0.12.3"
  }
 },
 "nbformat": 4,
 "nbformat_minor": 2
}
